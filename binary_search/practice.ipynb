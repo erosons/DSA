{
 "cells": [
  {
   "cell_type": "code",
   "execution_count": 5,
   "metadata": {},
   "outputs": [
    {
     "name": "stdout",
     "output_type": "stream",
     "text": [
      "6 Number of Iteraions: 3\n"
     ]
    }
   ],
   "source": [
    "\"\"\"\n",
    "Solving a O(n) time complexity with O(log n)\n",
    "Which aims to residue the iteration for the search\n",
    "\"\"\"\n",
    "\n",
    "def binary_search(list_array,targetvalue):\n",
    "    counter=0\n",
    "    first_value=0\n",
    "    last_value =len(list_array)-1\n",
    "    \n",
    "    while first_value <= last_value:\n",
    "        try:\n",
    "            counter +=1\n",
    "            midpoint=(first_value + last_value)//2\n",
    "            if midpoint ==targetvalue:\n",
    "                return print(list_array[midpoint],\"Number of Iteraions: {}\".format(counter))\n",
    "            elif midpoint < targetvalue:\n",
    "                first_value=list_array[midpoint] - 1\n",
    "            else :\n",
    "                last_value=list_array[midpoint] + 1\n",
    "        except:\n",
    "            pass\n",
    "\n",
    "\n",
    "if __name__==\"__main__\":\n",
    "    binary_search([x for x in range(11)],6)"
   ]
  },
  {
   "cell_type": "code",
   "execution_count": null,
   "metadata": {},
   "outputs": [],
   "source": []
  }
 ],
 "metadata": {
  "kernelspec": {
   "display_name": "Python 3.10.4 64-bit",
   "language": "python",
   "name": "python3"
  },
  "language_info": {
   "codemirror_mode": {
    "name": "ipython",
    "version": 3
   },
   "file_extension": ".py",
   "mimetype": "text/x-python",
   "name": "python",
   "nbconvert_exporter": "python",
   "pygments_lexer": "ipython3",
   "version": "3.10.4"
  },
  "orig_nbformat": 4,
  "vscode": {
   "interpreter": {
    "hash": "916dbcbb3f70747c44a77c7bcd40155683ae19c65e1c03b4aa3499c5328201f1"
   }
  }
 },
 "nbformat": 4,
 "nbformat_minor": 2
}
