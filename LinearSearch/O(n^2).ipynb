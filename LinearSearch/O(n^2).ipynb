{
 "cells": [
  {
   "cell_type": "code",
   "execution_count": 2,
   "metadata": {},
   "outputs": [],
   "source": [
    "from time import time\n",
    "import timeit\n",
    "import numba\n",
    "from numba import njit, prange"
   ]
  },
  {
   "cell_type": "code",
   "execution_count": 9,
   "metadata": {},
   "outputs": [
    {
     "name": "stdout",
     "output_type": "stream",
     "text": [
      "sam and laugh are  not anagram\n",
      "sam and GOD are  not anagram\n",
      "sam and add are  not anagram\n",
      "dog and laugh are  not anagram\n",
      "dog and GOD are anagram\n",
      "dog and add are  not anagram\n",
      "dad and laugh are  not anagram\n",
      "dad and GOD are  not anagram\n",
      "dad and add are anagram\n",
      "3\n",
      "0.0002684593200683594\n"
     ]
    }
   ],
   "source": [
    "\"\"\"\n",
    "This is O(n^2) time complexity process\n",
    "time = a* n^2 + b*n + c\n",
    "\n",
    "drop c which least and keep the most contributing\n",
    "\"\"\"\n",
    "\n",
    "#@numba.jit(nopython=True, parallel=True)\n",
    "def anagram_ops(list1,list2) -> list:\n",
    "     for i in list1:\n",
    "        for j in list2:                                  # n^2 time complexity operations\n",
    "          if sorted(i.lower())==sorted(j.lower()):\n",
    "            print(\"{} and {} are anagram\".format(i,j))\n",
    "          else:\n",
    "            print(\"{} and {} are  not anagram\".format(i,j))\n",
    "\n",
    "     counter=0 \n",
    "     for i in range(0,len(list1)):\n",
    "        counter +=1\n",
    "     return print(counter)\n",
    "\n",
    "\n",
    "starttime=time()\n",
    "if __name__==\"__main__\":\n",
    "     list1=['sam','dog','dad']\n",
    "     list2=['laugh','GOD','add']\n",
    "     anagram_ops(list1,list2)\n",
    "endtime=time()\n",
    "print(endtime-starttime)\n"
   ]
  },
  {
   "cell_type": "code",
   "execution_count": 6,
   "metadata": {},
   "outputs": [
    {
     "name": "stdout",
     "output_type": "stream",
     "text": [
      "['a', 'd', 'd']\n"
     ]
    }
   ],
   "source": [
    "x= 'dad'\n",
    "print(sorted(x))\n"
   ]
  },
  {
   "cell_type": "code",
   "execution_count": null,
   "metadata": {},
   "outputs": [],
   "source": []
  }
 ],
 "metadata": {
  "kernelspec": {
   "display_name": "Python 3.10.4 64-bit",
   "language": "python",
   "name": "python3"
  },
  "language_info": {
   "codemirror_mode": {
    "name": "ipython",
    "version": 3
   },
   "file_extension": ".py",
   "mimetype": "text/x-python",
   "name": "python",
   "nbconvert_exporter": "python",
   "pygments_lexer": "ipython3",
   "version": "3.10.4"
  },
  "orig_nbformat": 4,
  "vscode": {
   "interpreter": {
    "hash": "916dbcbb3f70747c44a77c7bcd40155683ae19c65e1c03b4aa3499c5328201f1"
   }
  }
 },
 "nbformat": 4,
 "nbformat_minor": 2
}
