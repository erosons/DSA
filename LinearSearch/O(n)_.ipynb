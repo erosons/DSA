{
 "cells": [
  {
   "cell_type": "code",
   "execution_count": 2,
   "metadata": {},
   "outputs": [],
   "source": [
    "from time import time\n",
    "import timeit"
   ]
  },
  {
   "cell_type": "code",
   "execution_count": 5,
   "metadata": {},
   "outputs": [
    {
     "name": "stdout",
     "output_type": "stream",
     "text": [
      "(20, 21)\n",
      "0.0002498626708984375\n"
     ]
    }
   ],
   "source": [
    "\"\"\"\n",
    "This is O(n) time complexity process\n",
    "time = a* n + c\n",
    "\n",
    "drop c which least and keep the most contributing\n",
    "\"\"\"\n",
    "\n",
    "def linear_search_ops(list_array,targetValue) -> str:\n",
    "     Counter=0\n",
    "     for i in range(0, len(list_array)): \n",
    "        Counter +=1                                     # n  time complexity\n",
    "        if list_array[i]==targetValue:      # c time complexity\n",
    "            return i,Counter\n",
    "     return None\n",
    "\n",
    "starttime=time()\n",
    "if __name__==\"__main__\":\n",
    "    test_array=[x for x in range(128)]\n",
    "    print(linear_search_ops(test_array,20))\n",
    "endtime=time()\n",
    "print(endtime-starttime)\n"
   ]
  },
  {
   "cell_type": "code",
   "execution_count": null,
   "metadata": {},
   "outputs": [],
   "source": []
  }
 ],
 "metadata": {
  "kernelspec": {
   "display_name": "Python 3.10.4 64-bit",
   "language": "python",
   "name": "python3"
  },
  "language_info": {
   "codemirror_mode": {
    "name": "ipython",
    "version": 3
   },
   "file_extension": ".py",
   "mimetype": "text/x-python",
   "name": "python",
   "nbconvert_exporter": "python",
   "pygments_lexer": "ipython3",
   "version": "3.10.4"
  },
  "orig_nbformat": 4,
  "vscode": {
   "interpreter": {
    "hash": "916dbcbb3f70747c44a77c7bcd40155683ae19c65e1c03b4aa3499c5328201f1"
   }
  }
 },
 "nbformat": 4,
 "nbformat_minor": 2
}
