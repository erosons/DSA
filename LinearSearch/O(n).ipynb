{
 "cells": [
  {
   "cell_type": "code",
   "execution_count": 2,
   "metadata": {},
   "outputs": [],
   "source": [
    "from time import time\n",
    "import timeit\n",
    "import numba\n",
    "from numba import njit, prange"
   ]
  },
  {
   "cell_type": "code",
   "execution_count": 3,
   "metadata": {},
   "outputs": [],
   "source": [
    "\"\"\"\n",
    "This is O(n) time complexity process\n",
    "time = a* n + c\n",
    "\n",
    "drop c which least and keep the most contributing\n",
    "\"\"\"\n",
    "\n",
    "#@numba.jit(nopython=True, parallel=True)\n",
    "def linear_search_ops(list_array) -> list:\n",
    "     squared_list=[]\n",
    "     for i in list_array:               # n time complexity\n",
    "        squared_list.append(i*i)\n",
    "     return squared_list\n",
    "\n",
    "starttime=time()\n",
    "if __name__==\"__main__\":\n",
    "    test_array=[x for x in range(100000)]\n",
    "    #print(linear_search_ops(test_array))\n",
    "endtime=time()\n",
    "print(endtime-starttime)\n"
   ]
  }
 ],
 "metadata": {
  "kernelspec": {
   "display_name": "Python 3.10.4 64-bit",
   "language": "python",
   "name": "python3"
  },
  "language_info": {
   "codemirror_mode": {
    "name": "ipython",
    "version": 3
   },
   "file_extension": ".py",
   "mimetype": "text/x-python",
   "name": "python",
   "nbconvert_exporter": "python",
   "pygments_lexer": "ipython3",
   "version": "3.10.4"
  },
  "orig_nbformat": 4,
  "vscode": {
   "interpreter": {
    "hash": "916dbcbb3f70747c44a77c7bcd40155683ae19c65e1c03b4aa3499c5328201f1"
   }
  }
 },
 "nbformat": 4,
 "nbformat_minor": 2
}
